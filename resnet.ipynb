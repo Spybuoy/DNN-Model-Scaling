{
  "cells": [
    {
      "cell_type": "code",
      "execution_count": null,
      "metadata": {
        "colab": {
          "base_uri": "https://localhost:8080/"
        },
        "id": "Ew6tUEORpIZe",
        "outputId": "bfedec85-9eea-4e76-9d6e-a26aea7a4533"
      },
      "outputs": [
        {
          "name": "stdout",
          "output_type": "stream",
          "text": [
            "PyTorch Version:  1.13.0+cu116\n",
            "Torchvision Version:  0.14.0+cu116\n",
            "Looking in indexes: https://pypi.org/simple, https://us-python.pkg.dev/colab-wheels/public/simple/\n",
            "Collecting pthflops\n",
            "  Downloading pthflops-0.4.2-py3-none-any.whl (11 kB)\n",
            "Requirement already satisfied: torch in /usr/local/lib/python3.8/dist-packages (from pthflops) (1.13.0+cu116)\n",
            "Requirement already satisfied: typing-extensions in /usr/local/lib/python3.8/dist-packages (from torch->pthflops) (4.4.0)\n",
            "Installing collected packages: pthflops\n",
            "Successfully installed pthflops-0.4.2\n",
            "Looking in indexes: https://pypi.org/simple, https://us-python.pkg.dev/colab-wheels/public/simple/\n",
            "Collecting torchinfo\n",
            "  Downloading torchinfo-1.7.1-py3-none-any.whl (22 kB)\n",
            "Installing collected packages: torchinfo\n",
            "Successfully installed torchinfo-1.7.1\n",
            "Looking in indexes: https://pypi.org/simple, https://us-python.pkg.dev/colab-wheels/public/simple/\n",
            "Collecting thop\n",
            "  Downloading thop-0.1.1.post2209072238-py3-none-any.whl (15 kB)\n",
            "Requirement already satisfied: torch in /usr/local/lib/python3.8/dist-packages (from thop) (1.13.0+cu116)\n",
            "Requirement already satisfied: typing-extensions in /usr/local/lib/python3.8/dist-packages (from torch->thop) (4.4.0)\n",
            "Installing collected packages: thop\n",
            "Successfully installed thop-0.1.1.post2209072238\n",
            "Looking in indexes: https://pypi.org/simple, https://us-python.pkg.dev/colab-wheels/public/simple/\n",
            "Collecting efficientnet_pytorch\n",
            "  Downloading efficientnet_pytorch-0.7.1.tar.gz (21 kB)\n",
            "Requirement already satisfied: torch in /usr/local/lib/python3.8/dist-packages (from efficientnet_pytorch) (1.13.0+cu116)\n",
            "Requirement already satisfied: typing-extensions in /usr/local/lib/python3.8/dist-packages (from torch->efficientnet_pytorch) (4.4.0)\n",
            "Building wheels for collected packages: efficientnet-pytorch\n",
            "  Building wheel for efficientnet-pytorch (setup.py) ... \u001b[?25l\u001b[?25hdone\n",
            "  Created wheel for efficientnet-pytorch: filename=efficientnet_pytorch-0.7.1-py3-none-any.whl size=16446 sha256=8421fbceefe60d7562edbe39febdd723b9372f1ec18d914484ea2cc8c79c7ffa\n",
            "  Stored in directory: /root/.cache/pip/wheels/84/b9/90/25a0195cf95fb5533db96f1c77ea3f296b7cc86ae8ae48e3dc\n",
            "Successfully built efficientnet-pytorch\n",
            "Installing collected packages: efficientnet-pytorch\n",
            "Successfully installed efficientnet-pytorch-0.7.1\n"
          ]
        }
      ],
      "source": [
        "import torch\n",
        "import torch.nn as nn\n",
        "import torchvision\n",
        "import numpy as np\n",
        "from torchvision import datasets, models, transforms\n",
        "import torchvision.transforms as transforms\n",
        "import torch.optim as optim\n",
        "from pathlib import Path\n",
        "import matplotlib.pyplot as plt\n",
        "from torchsummary import summary\n",
        "import time\n",
        "print(\"PyTorch Version: \", torch.__version__)\n",
        "print(\"Torchvision Version: \", torchvision.__version__)\n",
        "!mkdir data\n",
        "data_dir = Path('./data')\n",
        "net_fn = Path('./net')\n",
        "import math\n",
        "torch.manual_seed(0)\n",
        "np.random.seed(0)\n",
        "from prettytable import PrettyTable\n",
        "!pip install pthflops\n",
        "from pthflops import count_ops\n",
        "import copy\n",
        "!pip install torchinfo\n",
        "import torchinfo\n",
        "!pip install thop\n",
        "from thop import profile\n",
        "torch.manual_seed(0)\n",
        "np.random.seed(0)\n",
        "!pip install --upgrade efficientnet_pytorch\n",
        "from efficientnet_pytorch import EfficientNet\n",
        "from scipy.linalg import svd"
      ]
    },
    {
      "cell_type": "code",
      "execution_count": null,
      "metadata": {
        "id": "HTD7xcU1p0Jj"
      },
      "outputs": [],
      "source": [
        "dev = torch.device('cuda' if torch.cuda.is_available() else 'cpu')"
      ]
    },
    {
      "cell_type": "code",
      "execution_count": null,
      "metadata": {
        "colab": {
          "base_uri": "https://localhost:8080/"
        },
        "id": "6yUnqJOWp0MA",
        "outputId": "f8b2e22f-8b95-41ea-94d7-a77b818a1a22"
      },
      "outputs": [
        {
          "name": "stdout",
          "output_type": "stream",
          "text": [
            "Mounted at /content/drive\n",
            "Number of validation images: 50000\n"
          ]
        },
        {
          "name": "stderr",
          "output_type": "stream",
          "text": [
            "/usr/local/lib/python3.8/dist-packages/torch/utils/data/dataloader.py:554: UserWarning: This DataLoader will create 4 worker processes in total. Our suggested max number of worker in current system is 2, which is smaller than what this DataLoader is going to create. Please be aware that excessive worker creation might get DataLoader running slow or even freeze, lower the worker number to avoid potential slowness/freeze if necessary.\n",
            "  warnings.warn(_create_warning_msg(\n"
          ]
        }
      ],
      "source": [
        "# Mount data directory to google drive\n",
        "\"\"\"\n",
        "Used the comments in code to execute the file, when used with an account \n",
        "that has access to the shared folder of the class, the code will automatically run\n",
        "\"\"\"\n",
        "from google.colab import drive\n",
        "drive.mount('./drive')\n",
        "\n",
        "# Copy to local for faster extraction\n",
        "!cp drive/Shareddrives/penn-ese-5390-202230/ILSVRC2012_img_val.tar ./data\n",
        "!cp drive/Shareddrives/penn-ese-5390-202230/ILSVRC2012_devkit_t3.tar.gz ./data\n",
        "!cp drive/Shareddrives/penn-ese-5390-202230/ILSVRC2012_devkit_t12.tar.gz ./data\n",
        "\n",
        "# Create transform to preprocess data\n",
        "val_transform = transforms.Compose([\n",
        "    transforms.Resize(224),\n",
        "    transforms.CenterCrop(224),\n",
        "    transforms.ToTensor(),\n",
        "    transforms.Normalize([0.485, 0.456, 0.406], [0.229, 0.224, 0.225])\n",
        "])\n",
        "\n",
        "# from google.colab import drive\n",
        "# drive.mount('/content/drive')\n",
        "\n",
        "# # Copy to local for faster extraction\n",
        "# !cp /content/drive/Shareddrives/539/ILSVRC2012_img_val.tar ./data\n",
        "# !cp /content/drive/Shareddrives/539/ILSVRC2012_devkit_t3.tar.gz ./data\n",
        "# !cp /content/drive/Shareddrives/539/ILSVRC2012_devkit_t12.tar.gz ./data\n",
        "\n",
        "# val_transform = transforms.Compose([\n",
        "#     transforms.Resize(224),\n",
        "#     transforms.CenterCrop(224),\n",
        "#     transforms.ToTensor(),\n",
        "#     transforms.Normalize([0.485, 0.456, 0.406], [0.229, 0.224, 0.225])\n",
        "# ])\n",
        "\n",
        "# Create validation dataset\n",
        "val_dataset = datasets.ImageNet('./data', split='val', transform=val_transform)\n",
        "\n",
        "# Create validation dataloader\n",
        "val_dataloader = torch.utils.data.DataLoader(val_dataset, num_workers=4)\n",
        "\n",
        "print(f'Number of validation images: {len(val_dataset)}')\n"
      ]
    },
    {
      "cell_type": "code",
      "execution_count": null,
      "metadata": {
        "id": "QuZsSFR_p0OQ"
      },
      "outputs": [],
      "source": [
        "def validate_model(model, dataloader, device=\"cpu\", n=None):\n",
        "    model.eval()\n",
        "    running_corrects = 0\n",
        "    total = 0\n",
        "\n",
        "    # Move model to device (CPU or GPU)\n",
        "    # One time to amortize data movement\n",
        "    dev = torch.device(device)\n",
        "    model.to(dev)\n",
        "\n",
        "    # Iterate over data stopping early if n is set\n",
        "    for i, (inputs, labels) in enumerate(dataloader):\n",
        "        if (n is not None and i >= n):\n",
        "            break\n",
        "        # Send inputs to device\n",
        "        inputs = inputs.to(dev)\n",
        "\n",
        "        outputs = model(inputs)\n",
        "        _, predicted = torch.max(outputs, 1)\n",
        "        \n",
        "        \"\"\"\n",
        "        \"\"\"\n",
        "        temp = labels.data\n",
        "        if(device==\"cuda\"):\n",
        "          temp = temp.to(device=\"cuda\")\n",
        "\n",
        "\n",
        "        # Gather statistics\n",
        "        running_corrects += torch.sum(predicted == temp)\n",
        "        total += inputs.size()[0]       # get batch size\n",
        "\n",
        "        if i % 200 == 199:\n",
        "            acc = 100 * running_corrects.double() / total\n",
        "            print(f'[{i + 1}] {acc:.4f}%')\n",
        "\n",
        "    epoch_acc = 100 * running_corrects.double() / total\n",
        "\n",
        "    return epoch_acc\n"
      ]
    },
    {
      "cell_type": "code",
      "execution_count": null,
      "metadata": {
        "id": "qUPHKNYjp0R2"
      },
      "outputs": [],
      "source": [
        "def compare_models(model_1, model_2):\n",
        "    # Move models to specified device\n",
        "    model_1 = model_1.to(dev)\n",
        "    model_2 = model_2.to(dev)\n",
        "    \n",
        "    # Initialize counter for number of differences between models\n",
        "    models_differ = 0\n",
        "    \n",
        "    # Iterate over keys and values of state dictionaries in parallel\n",
        "    for key_1, value_1, key_2, value_2 in zip(model_1.state_dict().keys(), model_1.state_dict().values(), model_2.state_dict().keys(), model_2.state_dict().values()):\n",
        "        # If keys are not the same, raise exception\n",
        "        if key_1 != key_2:\n",
        "            raise Exception('Mismatch in keys of model state dictionaries')\n",
        "        # If values are not equal, check if key contains 'weight' and increment counter\n",
        "        if not torch.equal(value_1, value_2):\n",
        "            if 'weight' not in key_1:\n",
        "                models_differ += 1\n",
        "                print('Mismatch found at', key_1)\n",
        "    # If counter is 0, print message indicating models match perfectly\n",
        "    if models_differ == 0:\n",
        "        print('Models match perfectly! :)')\n"
      ]
    },
    {
      "cell_type": "code",
      "execution_count": null,
      "metadata": {
        "id": "xVRPka41p0UV"
      },
      "outputs": [],
      "source": [
        "def count_parameters(model):\n",
        "  \n",
        "    table = PrettyTable([\"Modules\", \"Parameters\"])# Initialize table and total parameter count\n",
        "    total_params = 0\n",
        "    for name, parameter in model.named_parameters(): # Iterate over model's named parameters\n",
        "        if not parameter.requires_grad: continue # Skip parameters that do not require gradients\n",
        "        params = parameter.numel()# Get number of parameters and add to table and total count\n",
        "        table.add_row([name, params])\n",
        "        total_params+=params\n",
        "    # print(table)\n",
        "    # print(f\"Total Trainable Params: {total_params}\")\n",
        "    return total_params"
      ]
    },
    {
      "cell_type": "code",
      "execution_count": null,
      "metadata": {
        "id": "3IucNuXHp0Wk"
      },
      "outputs": [],
      "source": [
        "def _flops(layer, ip):\n",
        "    input = torch.randn(1, ip, 224, 224) # Generate random input tensor\n",
        "    flops, params = profile(layer, inputs=input) # Calculate FLOPS and number of parameters for the layer\n",
        "    return flops"
      ]
    },
    {
      "cell_type": "code",
      "execution_count": null,
      "metadata": {
        "colab": {
          "base_uri": "https://localhost:8080/",
          "height": 156,
          "referenced_widgets": [
            "8a29c6564e494b9b8c5b814df5a0b301",
            "5fdf90db1b1a4e2a865b901ca3faf256",
            "bc0461010123462c96691961605b6f1f",
            "ba49c09fc514449cb6f84ec78b48c2fe",
            "ad259dbcf5d64e15812d333b7e07acde",
            "13611646665848e2ba0f43d4a9503822",
            "1bd07a197f324d8498abc43a1a5d0a55",
            "042295d5c4ce45e496060c4f343e5858",
            "66f6bfaf99e44a15b9cf1d7130295359",
            "75c8edeeee2140aaa05922aa220c03e2",
            "8e936076d9ff491d9aa4767adbd7241a"
          ]
        },
        "id": "3c6bOqD0p0Zn",
        "outputId": "636a37a5-1481-42de-9ae5-a465fc843516"
      },
      "outputs": [
        {
          "name": "stderr",
          "output_type": "stream",
          "text": [
            "/usr/local/lib/python3.8/dist-packages/torchvision/models/_utils.py:208: UserWarning: The parameter 'pretrained' is deprecated since 0.13 and may be removed in the future, please use 'weights' instead.\n",
            "  warnings.warn(\n",
            "/usr/local/lib/python3.8/dist-packages/torchvision/models/_utils.py:223: UserWarning: Arguments other than a weight enum or `None` for 'weights' are deprecated since 0.13 and may be removed in the future. The current behavior is equivalent to passing `weights=ResNet18_Weights.IMAGENET1K_V1`. You can also use `weights=ResNet18_Weights.DEFAULT` to get the most up-to-date weights.\n",
            "  warnings.warn(msg)\n",
            "Downloading: \"https://download.pytorch.org/models/resnet18-f37072fd.pth\" to /root/.cache/torch/hub/checkpoints/resnet18-f37072fd.pth\n"
          ]
        },
        {
          "data": {
            "application/vnd.jupyter.widget-view+json": {
              "model_id": "8a29c6564e494b9b8c5b814df5a0b301",
              "version_major": 2,
              "version_minor": 0
            },
            "text/plain": [
              "  0%|          | 0.00/44.7M [00:00<?, ?B/s]"
            ]
          },
          "metadata": {},
          "output_type": "display_data"
        }
      ],
      "source": [
        "model_resnet = models.resnet18(pretrained=True)\n",
        "model_resnet = model_resnet.to(dev)\n",
        "# summary(model_resnet, input_size = (3,224,224))"
      ]
    },
    {
      "cell_type": "code",
      "execution_count": null,
      "metadata": {
        "id": "Dgcmd5TQqSiy"
      },
      "outputs": [],
      "source": [
        "print(torchinfo.summary(model_resnet, (3, 224, 224), batch_dim = 0, col_names = (\"input_size\", \"output_size\", \"num_params\", \"kernel_size\", \"mult_adds\"), verbose = 0))"
      ]
    },
    {
      "cell_type": "markdown",
      "metadata": {
        "id": "Z4_Jrbb1qTRC"
      },
      "source": [
        "The following code is to simulate image scaling for phi values from 0 to 7"
      ]
    },
    {
      "cell_type": "code",
      "execution_count": null,
      "metadata": {
        "colab": {
          "base_uri": "https://localhost:8080/"
        },
        "id": "gBVfHaJpp0cV",
        "outputId": "d11a9059-fb80-4346-d647-964d57b6017f"
      },
      "outputs": [
        {
          "name": "stdout",
          "output_type": "stream",
          "text": [
            "Operation               OPS         \n",
            "----------------------  ----------  \n",
            "conv1                   118013952   \n",
            "bn1                     1605632     \n",
            "relu                    1605632     \n",
            "maxpool                 1605632     \n",
            "layer1_0_conv1          115605504   \n",
            "layer1_0_bn1            401408      \n",
            "layer1_0_relu           401408      \n",
            "layer1_0_conv2          115605504   \n",
            "layer1_0_bn2            401408      \n",
            "add                     401408      \n",
            "layer1_0_relu_1         401408      \n",
            "layer1_1_conv1          115605504   \n",
            "layer1_1_bn1            401408      \n",
            "layer1_1_relu           401408      \n",
            "layer1_1_conv2          115605504   \n",
            "layer1_1_bn2            401408      \n",
            "add_1                   401408      \n",
            "layer1_1_relu_1         401408      \n",
            "layer2_0_conv1          57802752    \n",
            "layer2_0_bn1            200704      \n",
            "layer2_0_relu           200704      \n",
            "layer2_0_conv2          115605504   \n",
            "layer2_0_bn2            200704      \n",
            "layer2_0_downsample_0   6422528     \n",
            "layer2_0_downsample_1   200704      \n",
            "add_2                   200704      \n",
            "layer2_0_relu_1         200704      \n",
            "layer2_1_conv1          115605504   \n",
            "layer2_1_bn1            200704      \n",
            "layer2_1_relu           200704      \n",
            "layer2_1_conv2          115605504   \n",
            "layer2_1_bn2            200704      \n",
            "add_3                   200704      \n",
            "layer2_1_relu_1         200704      \n",
            "layer3_0_conv1          57802752    \n",
            "layer3_0_bn1            100352      \n",
            "layer3_0_relu           100352      \n",
            "layer3_0_conv2          115605504   \n",
            "layer3_0_bn2            100352      \n",
            "layer3_0_downsample_0   6422528     \n",
            "layer3_0_downsample_1   100352      \n",
            "add_4                   100352      \n",
            "layer3_0_relu_1         100352      \n",
            "layer3_1_conv1          115605504   \n",
            "layer3_1_bn1            100352      \n",
            "layer3_1_relu           100352      \n",
            "layer3_1_conv2          115605504   \n",
            "layer3_1_bn2            100352      \n",
            "add_5                   100352      \n",
            "layer3_1_relu_1         100352      \n",
            "layer4_0_conv1          57802752    \n",
            "layer4_0_bn1            50176       \n",
            "layer4_0_relu           50176       \n",
            "layer4_0_conv2          115605504   \n",
            "layer4_0_bn2            50176       \n",
            "layer4_0_downsample_0   6422528     \n",
            "layer4_0_downsample_1   50176       \n",
            "add_6                   50176       \n",
            "layer4_0_relu_1         50176       \n",
            "layer4_1_conv1          115605504   \n",
            "layer4_1_bn1            50176       \n",
            "layer4_1_relu           50176       \n",
            "layer4_1_conv2          115605504   \n",
            "layer4_1_bn2            50176       \n",
            "add_7                   50176       \n",
            "layer4_1_relu_1         50176       \n",
            "avgpool                 25088       \n",
            "fc                      513000      \n",
            "---------------------   ---------   \n",
            "Input size: (1, 3, 224, 224)\n",
            "1,826,793,960 FLOPs or approx. 1.83 GFLOPs\n"
          ]
        }
      ],
      "source": [
        "\"\"\"\n",
        "phi = 0\n",
        "\"\"\"\n",
        "ip = torch.rand(1,3,224,224).to(dev)\n",
        "temp = count_ops(model_resnet, ip) # Count the number of FLOPs"
      ]
    },
    {
      "cell_type": "code",
      "execution_count": null,
      "metadata": {
        "colab": {
          "base_uri": "https://localhost:8080/"
        },
        "id": "r36flnc_p0e8",
        "outputId": "aa76d1f5-d668-428a-bbcc-05af44b6d324"
      },
      "outputs": [
        {
          "name": "stdout",
          "output_type": "stream",
          "text": [
            "Operation               OPS         \n",
            "----------------------  ----------  \n",
            "conv1                   237843648   \n",
            "bn1                     3235968     \n",
            "relu                    3235968     \n",
            "maxpool                 3276800     \n",
            "layer1_0_conv1          235929600   \n",
            "layer1_0_bn1            819200      \n",
            "layer1_0_relu           819200      \n",
            "layer1_0_conv2          235929600   \n",
            "layer1_0_bn2            819200      \n",
            "add                     819200      \n",
            "layer1_0_relu_1         819200      \n",
            "layer1_1_conv1          235929600   \n",
            "layer1_1_bn1            819200      \n",
            "layer1_1_relu           819200      \n",
            "layer1_1_conv2          235929600   \n",
            "layer1_1_bn2            819200      \n",
            "add_1                   819200      \n",
            "layer1_1_relu_1         819200      \n",
            "layer2_0_conv1          117964800   \n",
            "layer2_0_bn1            409600      \n",
            "layer2_0_relu           409600      \n",
            "layer2_0_conv2          235929600   \n",
            "layer2_0_bn2            409600      \n",
            "layer2_0_downsample_0   13107200    \n",
            "layer2_0_downsample_1   409600      \n",
            "add_2                   409600      \n",
            "layer2_0_relu_1         409600      \n",
            "layer2_1_conv1          235929600   \n",
            "layer2_1_bn1            409600      \n",
            "layer2_1_relu           409600      \n",
            "layer2_1_conv2          235929600   \n",
            "layer2_1_bn2            409600      \n",
            "add_3                   409600      \n",
            "layer2_1_relu_1         409600      \n",
            "layer3_0_conv1          117964800   \n",
            "layer3_0_bn1            204800      \n",
            "layer3_0_relu           204800      \n",
            "layer3_0_conv2          235929600   \n",
            "layer3_0_bn2            204800      \n",
            "layer3_0_downsample_0   13107200    \n",
            "layer3_0_downsample_1   204800      \n",
            "add_4                   204800      \n",
            "layer3_0_relu_1         204800      \n",
            "layer3_1_conv1          235929600   \n",
            "layer3_1_bn1            204800      \n",
            "layer3_1_relu           204800      \n",
            "layer3_1_conv2          235929600   \n",
            "layer3_1_bn2            204800      \n",
            "add_5                   204800      \n",
            "layer3_1_relu_1         204800      \n",
            "layer4_0_conv1          117964800   \n",
            "layer4_0_bn1            102400      \n",
            "layer4_0_relu           102400      \n",
            "layer4_0_conv2          235929600   \n",
            "layer4_0_bn2            102400      \n",
            "layer4_0_downsample_0   13107200    \n",
            "layer4_0_downsample_1   102400      \n",
            "add_6                   102400      \n",
            "layer4_0_relu_1         102400      \n",
            "layer4_1_conv1          235929600   \n",
            "layer4_1_bn1            102400      \n",
            "layer4_1_relu           102400      \n",
            "layer4_1_conv2          235929600   \n",
            "layer4_1_bn2            102400      \n",
            "add_7                   102400      \n",
            "layer4_1_relu_1         102400      \n",
            "avgpool                 51200       \n",
            "fc                      513000      \n",
            "---------------------   ---------   \n",
            "Input size: (1, 3, 317, 317)\n",
            "3,724,534,184 FLOPs or approx. 3.72 GFLOPs\n"
          ]
        }
      ],
      "source": [
        "\"\"\"\n",
        "phi = 1\n",
        "\"\"\"\n",
        "phi = 1\n",
        "mul = math.pow(math.sqrt(2),phi)\n",
        "ip = torch.rand(1,3,math.ceil(mul*224),math.ceil(mul*224)).to(dev)\n",
        "temp = count_ops(model_resnet, ip) # Count the number of FLOPs"
      ]
    },
    {
      "cell_type": "code",
      "execution_count": null,
      "metadata": {
        "colab": {
          "base_uri": "https://localhost:8080/"
        },
        "id": "HJ_Kd651p0hE",
        "outputId": "a50944a5-7dc0-46de-c158-82217a6e44f1"
      },
      "outputs": [
        {
          "name": "stdout",
          "output_type": "stream",
          "text": [
            "Operation               OPS         \n",
            "----------------------  ----------  \n",
            "conv1                   476280000   \n",
            "bn1                     6480000     \n",
            "relu                    6480000     \n",
            "maxpool                 6537728     \n",
            "layer1_0_conv1          470716416   \n",
            "layer1_0_bn1            1634432     \n",
            "layer1_0_relu           1634432     \n",
            "layer1_0_conv2          470716416   \n",
            "layer1_0_bn2            1634432     \n",
            "add                     1634432     \n",
            "layer1_0_relu_1         1634432     \n",
            "layer1_1_conv1          470716416   \n",
            "layer1_1_bn1            1634432     \n",
            "layer1_1_relu           1634432     \n",
            "layer1_1_conv2          470716416   \n",
            "layer1_1_bn2            1634432     \n",
            "add_1                   1634432     \n",
            "layer1_1_relu_1         1634432     \n",
            "layer2_0_conv1          239542272   \n",
            "layer2_0_bn1            831744      \n",
            "layer2_0_relu           831744      \n",
            "layer2_0_conv2          479084544   \n",
            "layer2_0_bn2            831744      \n",
            "layer2_0_downsample_0   26615808    \n",
            "layer2_0_downsample_1   831744      \n",
            "add_2                   831744      \n",
            "layer2_0_relu_1         831744      \n",
            "layer2_1_conv1          479084544   \n",
            "layer2_1_bn1            831744      \n",
            "layer2_1_relu           831744      \n",
            "layer2_1_conv2          479084544   \n",
            "layer2_1_bn2            831744      \n",
            "add_3                   831744      \n",
            "layer2_1_relu_1         831744      \n",
            "layer3_0_conv1          248020992   \n",
            "layer3_0_bn1            430592      \n",
            "layer3_0_relu           430592      \n",
            "layer3_0_conv2          496041984   \n",
            "layer3_0_bn2            430592      \n",
            "layer3_0_downsample_0   27557888    \n",
            "layer3_0_downsample_1   430592      \n",
            "add_4                   430592      \n",
            "layer3_0_relu_1         430592      \n",
            "layer3_1_conv1          496041984   \n",
            "layer3_1_bn1            430592      \n",
            "layer3_1_relu           430592      \n",
            "layer3_1_conv2          496041984   \n",
            "layer3_1_bn2            430592      \n",
            "add_5                   430592      \n",
            "layer3_1_relu_1         430592      \n",
            "layer4_0_conv1          265420800   \n",
            "layer4_0_bn1            230400      \n",
            "layer4_0_relu           230400      \n",
            "layer4_0_conv2          530841600   \n",
            "layer4_0_bn2            230400      \n",
            "layer4_0_downsample_0   29491200    \n",
            "layer4_0_downsample_1   230400      \n",
            "add_6                   230400      \n",
            "layer4_0_relu_1         230400      \n",
            "layer4_1_conv1          530841600   \n",
            "layer4_1_bn1            230400      \n",
            "layer4_1_relu           230400      \n",
            "layer4_1_conv2          530841600   \n",
            "layer4_1_bn2            230400      \n",
            "add_7                   230400      \n",
            "layer4_1_relu_1         230400      \n",
            "avgpool                 115200      \n",
            "fc                      513000      \n",
            "---------------------   ---------   \n",
            "Input size: (1, 3, 449, 449)\n",
            "7,766,589,352 FLOPs or approx. 7.77 GFLOPs\n"
          ]
        }
      ],
      "source": [
        "\"\"\"\n",
        "phi = 2\n",
        "\"\"\"\n",
        "phi = 2\n",
        "mul = math.pow(math.sqrt(2),phi)\n",
        "ip = torch.rand(1,3,math.ceil(mul*224),math.ceil(mul*224)).to(dev)\n",
        "temp = count_ops(model_resnet, ip) # Count the number of FLOPs"
      ]
    },
    {
      "cell_type": "code",
      "execution_count": null,
      "metadata": {
        "colab": {
          "base_uri": "https://localhost:8080/"
        },
        "id": "4X4lBY_ap0i0",
        "outputId": "2b10d820-a424-4bec-db06-050600f70506"
      },
      "outputs": [
        {
          "name": "stdout",
          "output_type": "stream",
          "text": [
            "Operation               OPS         \n",
            "----------------------  ----------  \n",
            "conv1                   945400512   \n",
            "bn1                     12862592    \n",
            "relu                    12862592    \n",
            "maxpool                 12943872    \n",
            "layer1_0_conv1          931958784   \n",
            "layer1_0_bn1            3235968     \n",
            "layer1_0_relu           3235968     \n",
            "layer1_0_conv2          931958784   \n",
            "layer1_0_bn2            3235968     \n",
            "add                     3235968     \n",
            "layer1_0_relu_1         3235968     \n",
            "layer1_1_conv1          931958784   \n",
            "layer1_1_bn1            3235968     \n",
            "layer1_1_relu           3235968     \n",
            "layer1_1_conv2          931958784   \n",
            "layer1_1_bn2            3235968     \n",
            "add_1                   3235968     \n",
            "layer1_1_relu_1         3235968     \n",
            "layer2_0_conv1          471859200   \n",
            "layer2_0_bn1            1638400     \n",
            "layer2_0_relu           1638400     \n",
            "layer2_0_conv2          943718400   \n",
            "layer2_0_bn2            1638400     \n",
            "layer2_0_downsample_0   52428800    \n",
            "layer2_0_downsample_1   1638400     \n",
            "add_2                   1638400     \n",
            "layer2_0_relu_1         1638400     \n",
            "layer2_1_conv1          943718400   \n",
            "layer2_1_bn1            1638400     \n",
            "layer2_1_relu           1638400     \n",
            "layer2_1_conv2          943718400   \n",
            "layer2_1_bn2            1638400     \n",
            "add_3                   1638400     \n",
            "layer2_1_relu_1         1638400     \n",
            "layer3_0_conv1          471859200   \n",
            "layer3_0_bn1            819200      \n",
            "layer3_0_relu           819200      \n",
            "layer3_0_conv2          943718400   \n",
            "layer3_0_bn2            819200      \n",
            "layer3_0_downsample_0   52428800    \n",
            "layer3_0_downsample_1   819200      \n",
            "add_4                   819200      \n",
            "layer3_0_relu_1         819200      \n",
            "layer3_1_conv1          943718400   \n",
            "layer3_1_bn1            819200      \n",
            "layer3_1_relu           819200      \n",
            "layer3_1_conv2          943718400   \n",
            "layer3_1_bn2            819200      \n",
            "add_5                   819200      \n",
            "layer3_1_relu_1         819200      \n",
            "layer4_0_conv1          471859200   \n",
            "layer4_0_bn1            409600      \n",
            "layer4_0_relu           409600      \n",
            "layer4_0_conv2          943718400   \n",
            "layer4_0_bn2            409600      \n",
            "layer4_0_downsample_0   52428800    \n",
            "layer4_0_downsample_1   409600      \n",
            "add_6                   409600      \n",
            "layer4_0_relu_1         409600      \n",
            "layer4_1_conv1          943718400   \n",
            "layer4_1_bn1            409600      \n",
            "layer4_1_relu           409600      \n",
            "layer4_1_conv2          943718400   \n",
            "layer4_1_bn2            409600      \n",
            "add_7                   409600      \n",
            "layer4_1_relu_1         409600      \n",
            "avgpool                 204800      \n",
            "fc                      513000      \n",
            "---------------------   ---------   \n",
            "Input size: (1, 3, 634, 634)\n",
            "14,842,850,984 FLOPs or approx. 14.84 GFLOPs\n"
          ]
        }
      ],
      "source": [
        "\"\"\"\n",
        "phi = 3\n",
        "\"\"\"\n",
        "phi = 3\n",
        "mul = math.pow(math.sqrt(2),phi)\n",
        "ip = torch.rand(1,3,math.ceil(mul*224),math.ceil(mul*224)).to(dev)\n",
        "temp = count_ops(model_resnet, ip) # Count the number of FLOPs"
      ]
    },
    {
      "cell_type": "code",
      "execution_count": null,
      "metadata": {
        "colab": {
          "base_uri": "https://localhost:8080/"
        },
        "id": "QaXSzRbGp0ks",
        "outputId": "6269f33f-bfb7-42a5-e996-2c19b6f554c7"
      },
      "outputs": [
        {
          "name": "stdout",
          "output_type": "stream",
          "text": [
            "Operation               OPS          \n",
            "----------------------  -----------  \n",
            "conv1                   1896662208   \n",
            "bn1                     25804928     \n",
            "relu                    25804928     \n",
            "maxpool                 25920000     \n",
            "layer1_0_conv1          1866240000   \n",
            "layer1_0_bn1            6480000      \n",
            "layer1_0_relu           6480000      \n",
            "layer1_0_conv2          1866240000   \n",
            "layer1_0_bn2            6480000      \n",
            "add                     6480000      \n",
            "layer1_0_relu_1         6480000      \n",
            "layer1_1_conv1          1866240000   \n",
            "layer1_1_bn1            6480000      \n",
            "layer1_1_relu           6480000      \n",
            "layer1_1_conv2          1866240000   \n",
            "layer1_1_bn2            6480000      \n",
            "add_1                   6480000      \n",
            "layer1_1_relu_1         6480000      \n",
            "layer2_0_conv1          941432832    \n",
            "layer2_0_bn1            3268864      \n",
            "layer2_0_relu           3268864      \n",
            "layer2_0_conv2          1882865664   \n",
            "layer2_0_bn2            3268864      \n",
            "layer2_0_downsample_0   104603648    \n",
            "layer2_0_downsample_1   3268864      \n",
            "add_2                   3268864      \n",
            "layer2_0_relu_1         3268864      \n",
            "layer2_1_conv1          1882865664   \n",
            "layer2_1_bn1            3268864      \n",
            "layer2_1_relu           3268864      \n",
            "layer2_1_conv2          1882865664   \n",
            "layer2_1_bn2            3268864      \n",
            "add_3                   3268864      \n",
            "layer2_1_relu_1         3268864      \n",
            "layer3_0_conv1          958169088    \n",
            "layer3_0_bn1            1663488      \n",
            "layer3_0_relu           1663488      \n",
            "layer3_0_conv2          1916338176   \n",
            "layer3_0_bn2            1663488      \n",
            "layer3_0_downsample_0   106463232    \n",
            "layer3_0_downsample_1   1663488      \n",
            "add_4                   1663488      \n",
            "layer3_0_relu_1         1663488      \n",
            "layer3_1_conv1          1916338176   \n",
            "layer3_1_bn1            1663488      \n",
            "layer3_1_relu           1663488      \n",
            "layer3_1_conv2          1916338176   \n",
            "layer3_1_bn2            1663488      \n",
            "add_5                   1663488      \n",
            "layer3_1_relu_1         1663488      \n",
            "layer4_0_conv1          992083968    \n",
            "layer4_0_bn1            861184       \n",
            "layer4_0_relu           861184       \n",
            "layer4_0_conv2          1984167936   \n",
            "layer4_0_bn2            861184       \n",
            "layer4_0_downsample_0   110231552    \n",
            "layer4_0_downsample_1   861184       \n",
            "add_6                   861184       \n",
            "layer4_0_relu_1         861184       \n",
            "layer4_1_conv1          1984167936   \n",
            "layer4_1_bn1            861184       \n",
            "layer4_1_relu           861184       \n",
            "layer4_1_conv2          1984167936   \n",
            "layer4_1_bn2            861184       \n",
            "add_7                   861184       \n",
            "layer4_1_relu_1         861184       \n",
            "avgpool                 430592       \n",
            "fc                      513000       \n",
            "---------------------   ----------   \n",
            "Input size: (1, 3, 897, 897)\n",
            "30,131,724,200 FLOPs or approx. 30.13 GFLOPs\n"
          ]
        }
      ],
      "source": [
        "\"\"\"\n",
        "phi = 4\n",
        "\"\"\"\n",
        "phi = 4\n",
        "mul = math.pow(math.sqrt(2),phi)\n",
        "ip = torch.rand(1,3,math.ceil(mul*224),math.ceil(mul*224)).to(dev)\n",
        "temp = count_ops(model_resnet, ip) # Count the number of FLOPs"
      ]
    },
    {
      "cell_type": "code",
      "execution_count": null,
      "metadata": {
        "colab": {
          "base_uri": "https://localhost:8080/"
        },
        "id": "Qt5VbPcJp0mq",
        "outputId": "e01a15b9-0303-4c58-9835-1efddde80a41"
      },
      "outputs": [
        {
          "name": "stdout",
          "output_type": "stream",
          "text": [
            "Operation               OPS          \n",
            "----------------------  -----------  \n",
            "conv1                   3781602048   \n",
            "bn1                     51450368     \n",
            "relu                    51450368     \n",
            "maxpool                 51450368     \n",
            "layer1_0_conv1          3704426496   \n",
            "layer1_0_bn1            12862592     \n",
            "layer1_0_relu           12862592     \n",
            "layer1_0_conv2          3704426496   \n",
            "layer1_0_bn2            12862592     \n",
            "add                     12862592     \n",
            "layer1_0_relu_1         12862592     \n",
            "layer1_1_conv1          3704426496   \n",
            "layer1_1_bn1            12862592     \n",
            "layer1_1_relu           12862592     \n",
            "layer1_1_conv2          3704426496   \n",
            "layer1_1_bn2            12862592     \n",
            "add_1                   12862592     \n",
            "layer1_1_relu_1         12862592     \n",
            "layer2_0_conv1          1863917568   \n",
            "layer2_0_bn1            6471936      \n",
            "layer2_0_relu           6471936      \n",
            "layer2_0_conv2          3727835136   \n",
            "layer2_0_bn2            6471936      \n",
            "layer2_0_downsample_0   207101952    \n",
            "layer2_0_downsample_1   6471936      \n",
            "add_2                   6471936      \n",
            "layer2_0_relu_1         6471936      \n",
            "layer2_1_conv1          3727835136   \n",
            "layer2_1_bn1            6471936      \n",
            "layer2_1_relu           6471936      \n",
            "layer2_1_conv2          3727835136   \n",
            "layer2_1_bn2            6471936      \n",
            "add_3                   6471936      \n",
            "layer2_1_relu_1         6471936      \n",
            "layer3_0_conv1          1887436800   \n",
            "layer3_0_bn1            3276800      \n",
            "layer3_0_relu           3276800      \n",
            "layer3_0_conv2          3774873600   \n",
            "layer3_0_bn2            3276800      \n",
            "layer3_0_downsample_0   209715200    \n",
            "layer3_0_downsample_1   3276800      \n",
            "add_4                   3276800      \n",
            "layer3_0_relu_1         3276800      \n",
            "layer3_1_conv1          3774873600   \n",
            "layer3_1_bn1            3276800      \n",
            "layer3_1_relu           3276800      \n",
            "layer3_1_conv2          3774873600   \n",
            "layer3_1_bn2            3276800      \n",
            "add_5                   3276800      \n",
            "layer3_1_relu_1         3276800      \n",
            "layer4_0_conv1          1887436800   \n",
            "layer4_0_bn1            1638400      \n",
            "layer4_0_relu           1638400      \n",
            "layer4_0_conv2          3774873600   \n",
            "layer4_0_bn2            1638400      \n",
            "layer4_0_downsample_0   209715200    \n",
            "layer4_0_downsample_1   1638400      \n",
            "add_6                   1638400      \n",
            "layer4_0_relu_1         1638400      \n",
            "layer4_1_conv1          3774873600   \n",
            "layer4_1_bn1            1638400      \n",
            "layer4_1_relu           1638400      \n",
            "layer4_1_conv2          3774873600   \n",
            "layer4_1_bn2            1638400      \n",
            "add_7                   1638400      \n",
            "layer4_1_relu_1         1638400      \n",
            "avgpool                 819200       \n",
            "fc                      513000       \n",
            "---------------------   ----------   \n",
            "Input size: (1, 3, 1268, 1268)\n",
            "59,106,946,280 FLOPs or approx. 59.11 GFLOPs\n"
          ]
        }
      ],
      "source": [
        "\"\"\"\n",
        "phi = 5\n",
        "\"\"\"\n",
        "phi = 5\n",
        "mul = math.pow(math.sqrt(2),phi)\n",
        "ip = torch.rand(1,3,math.ceil(mul*224),math.ceil(mul*224)).to(dev)\n",
        "temp = count_ops(model_resnet, ip) # Count the number of FLOPs"
      ]
    },
    {
      "cell_type": "code",
      "execution_count": null,
      "metadata": {
        "colab": {
          "base_uri": "https://localhost:8080/"
        },
        "id": "dlplNFVPp0ov",
        "outputId": "e5c1a2f6-17ae-48ea-bf3b-d86ed5bd9ffc"
      },
      "outputs": [
        {
          "name": "stdout",
          "output_type": "stream",
          "text": [
            "Operation               OPS          \n",
            "----------------------  -----------  \n",
            "conv1                   7569761472   \n",
            "bn1                     102989952    \n",
            "relu                    102989952    \n",
            "maxpool                 103219712    \n",
            "layer1_0_conv1          7431819264   \n",
            "layer1_0_bn1            25804928     \n",
            "layer1_0_relu           25804928     \n",
            "layer1_0_conv2          7431819264   \n",
            "layer1_0_bn2            25804928     \n",
            "add                     25804928     \n",
            "layer1_0_relu_1         25804928     \n",
            "layer1_1_conv1          7431819264   \n",
            "layer1_1_bn1            25804928     \n",
            "layer1_1_relu           25804928     \n",
            "layer1_1_conv2          7431819264   \n",
            "layer1_1_bn2            25804928     \n",
            "add_1                   25804928     \n",
            "layer1_1_relu_1         25804928     \n",
            "layer2_0_conv1          3732480000   \n",
            "layer2_0_bn1            12960000     \n",
            "layer2_0_relu           12960000     \n",
            "layer2_0_conv2          7464960000   \n",
            "layer2_0_bn2            12960000     \n",
            "layer2_0_downsample_0   414720000    \n",
            "layer2_0_downsample_1   12960000     \n",
            "add_2                   12960000     \n",
            "layer2_0_relu_1         12960000     \n",
            "layer2_1_conv1          7464960000   \n",
            "layer2_1_bn1            12960000     \n",
            "layer2_1_relu           12960000     \n",
            "layer2_1_conv2          7464960000   \n",
            "layer2_1_bn2            12960000     \n",
            "add_3                   12960000     \n",
            "layer2_1_relu_1         12960000     \n",
            "layer3_0_conv1          3765731328   \n",
            "layer3_0_bn1            6537728      \n",
            "layer3_0_relu           6537728      \n",
            "layer3_0_conv2          7531462656   \n",
            "layer3_0_bn2            6537728      \n",
            "layer3_0_downsample_0   418414592    \n",
            "layer3_0_downsample_1   6537728      \n",
            "add_4                   6537728      \n",
            "layer3_0_relu_1         6537728      \n",
            "layer3_1_conv1          7531462656   \n",
            "layer3_1_bn1            6537728      \n",
            "layer3_1_relu           6537728      \n",
            "layer3_1_conv2          7531462656   \n",
            "layer3_1_bn2            6537728      \n",
            "add_5                   6537728      \n",
            "layer3_1_relu_1         6537728      \n",
            "layer4_0_conv1          3832676352   \n",
            "layer4_0_bn1            3326976      \n",
            "layer4_0_relu           3326976      \n",
            "layer4_0_conv2          7665352704   \n",
            "layer4_0_bn2            3326976      \n",
            "layer4_0_downsample_0   425852928    \n",
            "layer4_0_downsample_1   3326976      \n",
            "add_6                   3326976      \n",
            "layer4_0_relu_1         3326976      \n",
            "layer4_1_conv1          7665352704   \n",
            "layer4_1_bn1            3326976      \n",
            "layer4_1_relu           3326976      \n",
            "layer4_1_conv2          7665352704   \n",
            "layer4_1_bn2            3326976      \n",
            "add_7                   3326976      \n",
            "layer4_1_relu_1         3326976      \n",
            "avgpool                 1663488      \n",
            "fc                      513000       \n",
            "---------------------   ----------   \n",
            "Input size: (1, 3, 1793, 1793)\n",
            "118,692,736,936 FLOPs or approx. 118.69 GFLOPs\n"
          ]
        }
      ],
      "source": [
        "\"\"\"\n",
        "phi = 6\n",
        "\"\"\"\n",
        "phi = 6\n",
        "mul = math.pow(math.sqrt(2),phi)\n",
        "ip = torch.rand(1,3,math.ceil(mul*224),math.ceil(mul*224)).to(dev)\n",
        "temp = count_ops(model_resnet, ip) # Count the number of FLOPs"
      ]
    },
    {
      "cell_type": "code",
      "execution_count": null,
      "metadata": {
        "colab": {
          "base_uri": "https://localhost:8080/"
        },
        "id": "TfgO6uaxqMKo",
        "outputId": "94840251-e7cd-4fb8-8147-944411c8d241"
      },
      "outputs": [
        {
          "name": "stdout",
          "output_type": "stream",
          "text": [
            "Operation               OPS           \n",
            "----------------------  ------------  \n",
            "conv1                   15126408192   \n",
            "bn1                     205801472     \n",
            "relu                    205801472     \n",
            "maxpool                 205801472     \n",
            "layer1_0_conv1          14817705984   \n",
            "layer1_0_bn1            51450368      \n",
            "layer1_0_relu           51450368      \n",
            "layer1_0_conv2          14817705984   \n",
            "layer1_0_bn2            51450368      \n",
            "add                     51450368      \n",
            "layer1_0_relu_1         51450368      \n",
            "layer1_1_conv1          14817705984   \n",
            "layer1_1_bn1            51450368      \n",
            "layer1_1_relu           51450368      \n",
            "layer1_1_conv2          14817705984   \n",
            "layer1_1_bn2            51450368      \n",
            "add_1                   51450368      \n",
            "layer1_1_relu_1         51450368      \n",
            "layer2_0_conv1          7408852992    \n",
            "layer2_0_bn1            25725184      \n",
            "layer2_0_relu           25725184      \n",
            "layer2_0_conv2          14817705984   \n",
            "layer2_0_bn2            25725184      \n",
            "layer2_0_downsample_0   823205888     \n",
            "layer2_0_downsample_1   25725184      \n",
            "add_2                   25725184      \n",
            "layer2_0_relu_1         25725184      \n",
            "layer2_1_conv1          14817705984   \n",
            "layer2_1_bn1            25725184      \n",
            "layer2_1_relu           25725184      \n",
            "layer2_1_conv2          14817705984   \n",
            "layer2_1_bn2            25725184      \n",
            "add_3                   25725184      \n",
            "layer2_1_relu_1         25725184      \n",
            "layer3_0_conv1          7455670272    \n",
            "layer3_0_bn1            12943872      \n",
            "layer3_0_relu           12943872      \n",
            "layer3_0_conv2          14911340544   \n",
            "layer3_0_bn2            12943872      \n",
            "layer3_0_downsample_0   828407808     \n",
            "layer3_0_downsample_1   12943872      \n",
            "add_4                   12943872      \n",
            "layer3_0_relu_1         12943872      \n",
            "layer3_1_conv1          14911340544   \n",
            "layer3_1_bn1            12943872      \n",
            "layer3_1_relu           12943872      \n",
            "layer3_1_conv2          14911340544   \n",
            "layer3_1_bn2            12943872      \n",
            "add_5                   12943872      \n",
            "layer3_1_relu_1         12943872      \n",
            "layer4_0_conv1          7549747200    \n",
            "layer4_0_bn1            6553600       \n",
            "layer4_0_relu           6553600       \n",
            "layer4_0_conv2          15099494400   \n",
            "layer4_0_bn2            6553600       \n",
            "layer4_0_downsample_0   838860800     \n",
            "layer4_0_downsample_1   6553600       \n",
            "add_6                   6553600       \n",
            "layer4_0_relu_1         6553600       \n",
            "layer4_1_conv1          15099494400   \n",
            "layer4_1_bn1            6553600       \n",
            "layer4_1_relu           6553600       \n",
            "layer4_1_conv2          15099494400   \n",
            "layer4_1_bn2            6553600       \n",
            "add_7                   6553600       \n",
            "layer4_1_relu_1         6553600       \n",
            "avgpool                 3276800       \n",
            "fc                      513000        \n",
            "---------------------   -----------   \n",
            "Input size: (1, 3, 2535, 2535)\n",
            "235,420,746,984 FLOPs or approx. 235.42 GFLOPs\n"
          ]
        }
      ],
      "source": [
        "\"\"\"\n",
        "phi = 7\n",
        "\"\"\"\n",
        "phi = 7\n",
        "mul = math.pow(math.sqrt(2),phi)\n",
        "ip = torch.rand(1,3,math.ceil(mul*224),math.ceil(mul*224)).to(dev)\n",
        "temp = count_ops(model_resnet, ip) # Count the number of FLOPs"
      ]
    },
    {
      "cell_type": "code",
      "execution_count": null,
      "metadata": {
        "colab": {
          "base_uri": "https://localhost:8080/",
          "height": 312
        },
        "id": "YAWsVeMBqMMf",
        "outputId": "85c25013-cc5d-40fd-c703-c8a104da5134"
      },
      "outputs": [
        {
          "data": {
            "text/plain": [
              "[<matplotlib.lines.Line2D at 0x7fd91facbc70>]"
            ]
          },
          "execution_count": 17,
          "metadata": {},
          "output_type": "execute_result"
        },
        {
          "data": {
            "image/png": "[encoded data removed]",
            "text/plain": [
              "<Figure size 576x288 with 1 Axes>"
            ]
          },
          "metadata": {
            "needs_background": "light"
          },
          "output_type": "display_data"
        }
      ],
      "source": [
        "x_val_resnet18_image_scaling = [0,1,2,3,4,5,6,7] #plotting the results\n",
        "y_val_resnet18_image_scaling = [1.83, 3.72, 7.77, 14.84, 30.13, 59.11, 118.69, 235.452 ]\n",
        "plt.figure(figsize=(8,4))\n",
        "plt.title(\"IMAGE SCALING RESNET__alpha = 1, beta^2 = 1, gamma^2 = 2\")\n",
        "plt.xlabel(\"phi values\")\n",
        "plt.ylabel(\"GFLOPS\")\n",
        "plt.plot(x_val_resnet18_image_scaling, y_val_resnet18_image_scaling)"
      ]
    },
    {
      "cell_type": "code",
      "execution_count": null,
      "metadata": {
        "colab": {
          "base_uri": "https://localhost:8080/"
        },
        "id": "98hq8_JjqMOD",
        "outputId": "38c4016f-318a-4a47-d9e7-1303d78685c3"
      },
      "outputs": [
        {
          "name": "stdout",
          "output_type": "stream",
          "text": [
            "conv1\n",
            "bn1\n",
            "relu\n",
            "maxpool\n",
            "layer1\n",
            "layer2\n",
            "layer3\n",
            "layer4\n",
            "avgpool\n",
            "fc\n"
          ]
        }
      ],
      "source": [
        "net = copy.deepcopy(model_resnet)\n",
        "for name, child in net.named_children():\n",
        "  print(name)"
      ]
    },
    {
      "cell_type": "code",
      "execution_count": null,
      "metadata": {
        "colab": {
          "base_uri": "https://localhost:8080/"
        },
        "id": "IuU9UGbvqMQD",
        "outputId": "fbab2135-f59e-4bae-df7e-c356ef85d502"
      },
      "outputs": [
        {
          "name": "stdout",
          "output_type": "stream",
          "text": [
            "Models match perfectly! :)\n"
          ]
        }
      ],
      "source": [
        "compare_models(net, model_resnet)"
      ]
    },
    {
      "cell_type": "code",
      "execution_count": null,
      "metadata": {
        "id": "xKVYrbzWqMSO"
      },
      "outputs": [],
      "source": [
        "def print_count_parameters(model):\n",
        "    table = PrettyTable([\"Modules\", \"Parameters\"])\n",
        "    total_params = 0\n",
        "    for name, parameter in model.named_parameters():\n",
        "        if not parameter.requires_grad: continue\n",
        "        params = parameter.numel()\n",
        "        table.add_row([name, params])\n",
        "        total_params+=params\n",
        "    print(table)\n",
        "    print(f\"Total Trainable Params: {total_params}\")\n",
        "    return total_params\n"
      ]
    },
    {
      "cell_type": "code",
      "execution_count": null,
      "metadata": {
        "id": "E39_kzzMqnVI"
      },
      "outputs": [],
      "source": [
        "phi = 1"
      ]
    },
    {
      "cell_type": "code",
      "execution_count": null,
      "metadata": {
        "id": "RAJXrgCmqMTb"
      },
      "outputs": [],
      "source": [
        "net.conv1 = nn.Conv2d(math.ceil(3), math.ceil(phi*64), kernel_size=(7, 7), stride=(2, 2), padding=(3, 3), bias=False)\n",
        "net.bn1 = nn.BatchNorm2d(math.ceil(phi*64), eps=1e-05, momentum=0.1, affine=True, track_running_stats=True)\n",
        "net.relu = nn.ReLU(inplace=True)\n",
        "net.maxpool = nn.MaxPool2d(kernel_size=3, stride=2, padding=1, dilation=1, ceil_mode=False)\n",
        "\n",
        "net.layer1[0].conv1 = nn.Conv2d(math.ceil(phi*64), math.ceil(phi*64), kernel_size=(3, 3), stride=(1, 1), padding=(1, 1), bias=False)\n",
        "net.layer1[0].bn1 = nn.BatchNorm2d(math.ceil(phi*64), eps=1e-05, momentum=0.1, affine=True, track_running_stats=True)\n",
        "net.layer1[0].relu = nn.ReLU(inplace=True)\n",
        "net.layer1[0].conv2 = nn.Conv2d(math.ceil(phi*64), math.ceil(phi*64), kernel_size=(3, 3), stride=(1, 1), padding=(1, 1), bias=False)\n",
        "net.layer1[0].bn2 = nn.BatchNorm2d(math.ceil(phi*64), eps=1e-05, momentum=0.1, affine=True, track_running_stats=True)\n",
        "net.layer1[1].conv1 = nn.Conv2d(math.ceil(phi*64), math.ceil(phi*64), kernel_size=(3, 3), stride=(1, 1), padding=(1, 1), bias=False)\n",
        "net.layer1[1].bn1 = nn.BatchNorm2d(math.ceil(phi*64), eps=1e-05, momentum=0.1, affine=True, track_running_stats=True)\n",
        "net.layer1[1].relu = nn.ReLU(inplace=True)\n",
        "net.layer1[1].conv2 = nn.Conv2d(math.ceil(phi*64),math.ceil(phi* 64), kernel_size=(3, 3), stride=(1, 1), padding=(1, 1), bias=False)\n",
        "net.layer1[1].bn2 = nn.BatchNorm2d(math.ceil(phi*64), eps=1e-05, momentum=0.1, affine=True, track_running_stats=True)\n",
        "\n",
        "net.layer2[0].conv1 = nn.Conv2d(math.ceil(phi*64), math.ceil(phi*128), kernel_size=(3, 3), stride=(1, 1), padding=(1, 1), bias=False)\n",
        "net.layer2[0].bn1 = nn.BatchNorm2d(math.ceil(phi*128), eps=1e-05, momentum=0.1, affine=True, track_running_stats=True)\n",
        "net.layer2[0].relu = nn.ReLU(inplace=True)\n",
        "net.layer2[0].conv2 = nn.Conv2d(math.ceil(phi*128),math.ceil(phi*128), kernel_size=(3, 3), stride=(1, 1), padding=(1, 1), bias=False)\n",
        "net.layer2[0].bn2 = nn.BatchNorm2d(math.ceil(phi*128), eps=1e-05, momentum=0.1, affine=True, track_running_stats=True)\n",
        "net.layer2[0].downsample[0] = nn.Conv2d(math.ceil(phi*64), math.ceil(phi*128), kernel_size=(1, 1), stride=(2, 2), bias=False)\n",
        "net.layer2[0].downsample[1] = nn.BatchNorm2d(math.ceil(phi*128), eps=1e-05, momentum=0.1, affine=True, track_running_stats=True)\n",
        "net.layer2[1].conv1 = nn.Conv2d(math.ceil(phi*128), math.ceil(phi*128), kernel_size=(3, 3), stride=(1, 1), padding=(1, 1), bias=False)\n",
        "net.layer2[1].bn1 = nn.BatchNorm2d(math.ceil(phi*128), eps=1e-05, momentum=0.1, affine=True, track_running_stats=True)\n",
        "net.layer2[1].relu = nn.ReLU(inplace=True)\n",
        "net.layer2[1].conv2 = nn.Conv2d(math.ceil(phi*128), math.ceil(phi*128), kernel_size=(3, 3), stride=(1, 1), padding=(1, 1), bias=False)\n",
        "net.layer2[1].bn2 = nn.BatchNorm2d(math.ceil(phi*128), eps=1e-05, momentum=0.1, affine=True, track_running_stats=True)\n",
        "\n",
        "net.layer3[0].conv1 = nn.Conv2d(math.ceil(phi*128), math.ceil(phi*256), kernel_size=(3, 3), stride=(1, 1), padding=(1, 1), bias=False)\n",
        "net.layer3[0].bn1 = nn.BatchNorm2d(math.ceil(phi*256), eps=1e-05, momentum=0.1, affine=True, track_running_stats=True)\n",
        "net.layer3[0].relu = nn.ReLU(inplace=True)\n",
        "net.layer3[0].conv2 = nn.Conv2d(math.ceil(phi*256), math.ceil(phi*256), kernel_size=(3, 3), stride=(1, 1), padding=(1, 1), bias=False)\n",
        "net.layer3[0].bn2 = nn.BatchNorm2d(math.ceil(phi*256), eps=1e-05, momentum=0.1, affine=True, track_running_stats=True)\n",
        "net.layer3[0].downsample[0] = nn.Conv2d(math.ceil(phi*128), math.ceil(phi*256), kernel_size=(1, 1), stride=(2, 2), bias=False)\n",
        "net.layer3[0].downsample[1] = nn.BatchNorm2d(math.ceil(phi*256), eps=1e-05, momentum=0.1, affine=True, track_running_stats=True)\n",
        "net.layer3[1].conv1 = nn.Conv2d(math.ceil(phi*256), math.ceil(phi*256), kernel_size=(3, 3), stride=(1, 1), padding=(1, 1), bias=False)\n",
        "net.layer3[1].bn1 = nn.BatchNorm2d(math.ceil(phi*256), eps=1e-05, momentum=0.1, affine=True, track_running_stats=True)\n",
        "net.layer3[1].relu = nn.ReLU(inplace=True)\n",
        "net.layer3[1].conv2 = nn.Conv2d(math.ceil(phi*256), math.ceil(phi*256), kernel_size=(3, 3), stride=(1, 1), padding=(1, 1), bias=False)\n",
        "net.layer3[1].bn2 = nn.BatchNorm2d(math.ceil(phi*256), eps=1e-05, momentum=0.1, affine=True, track_running_stats=True)\n",
        "\n",
        "net.layer4[0].conv1 = nn.Conv2d(math.ceil(phi*256), math.ceil(phi*512), kernel_size=(3, 3), stride=(1, 1), padding=(1, 1), bias=False)\n",
        "net.layer4[0].bn1 = nn.BatchNorm2d(math.ceil(phi*512), eps=1e-05, momentum=0.1, affine=True, track_running_stats=True)\n",
        "net.layer4[0].relu = nn.ReLU(inplace=True)\n",
        "net.layer4[0].conv2 = nn.Conv2d(math.ceil(phi*512), math.ceil(phi*512), kernel_size=(3, 3), stride=(1, 1), padding=(1, 1), bias=False)\n",
        "net.layer4[0].bn2 = nn.BatchNorm2d(math.ceil(phi*512), eps=1e-05, momentum=0.1, affine=True, track_running_stats=True)\n",
        "net.layer4[0].downsample[0] = nn.Conv2d(math.ceil(phi*256), math.ceil(phi*512), kernel_size=(1, 1), stride=(2, 2), bias=False)\n",
        "net.layer4[0].downsample[1] = nn.BatchNorm2d(math.ceil(phi*512), eps=1e-05, momentum=0.1, affine=True, track_running_stats=True)\n",
        "net.layer4[1].conv1 = nn.Conv2d(math.ceil(phi*512), math.ceil(phi*512), kernel_size=(3, 3), stride=(1, 1), padding=(1, 1), bias=False)\n",
        "net.layer4[1].bn1 = nn.BatchNorm2d(math.ceil(phi*512), eps=1e-05, momentum=0.1, affine=True, track_running_stats=True)\n",
        "net.layer4[1].relu = nn.ReLU(inplace=True)\n",
        "net.layer4[1].conv2 = nn.Conv2d(math.ceil(phi*512), math.ceil(phi*512), kernel_size=(3, 3), stride=(1, 1), padding=(1, 1), bias=False)\n",
        "net.layer4[1].bn2 = nn.BatchNorm2d(math.ceil(phi*512), eps=1e-05, momentum=0.1, affine=True, track_running_stats=True)\n",
        "# net.avgpool = Identity()\n",
        "net.avgpool = nn.AdaptiveAvgPool2d(output_size=(1, 1))\n",
        "nn.fc = nn.Linear(in_features=math.ceil(phi*512), out_features=1000, bias=True)"
      ]
    },
    {
      "cell_type": "code",
      "execution_count": null,
      "metadata": {
        "id": "bWyvm3DzqMXo"
      },
      "outputs": [],
      "source": [
        "y_val_resnet18_width_scaling = []\n",
        "x_val_resnet18_width_scaling = [0,1,2,3,4,5,6,7]\n",
        "for each in x_val_resnet18_width_scaling:\n",
        "  phi = math.pow(math.sqrt(2), each)\n",
        "  # net.conv1 = nn.Conv2d(math.ceil(phi*3), math.ceil(phi*64), kernel_size=(7, 7), stride=(2, 2), padding=(3, 3), bias=False)\n",
        "  net.conv1 = nn.Conv2d(math.ceil(3), math.ceil(phi*64), kernel_size=(7, 7), stride=(2, 2), padding=(3, 3), bias=False)\n",
        "  net.bn1 = nn.BatchNorm2d(math.ceil(phi*64), eps=1e-05, momentum=0.1, affine=True, track_running_stats=True)\n",
        "  net.relu = nn.ReLU(inplace=True)\n",
        "  net.maxpool = nn.MaxPool2d(kernel_size=3, stride=2, padding=1, dilation=1, ceil_mode=False)\n",
        "\n",
        "  net.layer1[0].conv1 = nn.Conv2d(math.ceil(phi*64), math.ceil(phi*64), kernel_size=(3, 3), stride=(1, 1), padding=(1, 1), bias=False)\n",
        "  net.layer1[0].bn1 = nn.BatchNorm2d(math.ceil(phi*64), eps=1e-05, momentum=0.1, affine=True, track_running_stats=True)\n",
        "  net.layer1[0].relu = nn.ReLU(inplace=True)\n",
        "  net.layer1[0].conv2 = nn.Conv2d(math.ceil(phi*64), math.ceil(phi*64), kernel_size=(3, 3), stride=(1, 1), padding=(1, 1), bias=False)\n",
        "  net.layer1[0].bn2 = nn.BatchNorm2d(math.ceil(phi*64), eps=1e-05, momentum=0.1, affine=True, track_running_stats=True)\n",
        "  net.layer1[1].conv1 = nn.Conv2d(math.ceil(phi*64), math.ceil(phi*64), kernel_size=(3, 3), stride=(1, 1), padding=(1, 1), bias=False)\n",
        "  net.layer1[1].bn1 = nn.BatchNorm2d(math.ceil(phi*64), eps=1e-05, momentum=0.1, affine=True, track_running_stats=True)\n",
        "  net.layer1[1].relu = nn.ReLU(inplace=True)\n",
        "  net.layer1[1].conv2 = nn.Conv2d(math.ceil(phi*64),math.ceil(phi* 64), kernel_size=(3, 3), stride=(1, 1), padding=(1, 1), bias=False)\n",
        "  net.layer1[1].bn2 = nn.BatchNorm2d(math.ceil(phi*64), eps=1e-05, momentum=0.1, affine=True, track_running_stats=True)\n",
        "\n",
        "  net.layer2[0].conv1 = nn.Conv2d(math.ceil(phi*64), math.ceil(phi*128), kernel_size=(3, 3), stride=(1, 1), padding=(1, 1), bias=False)\n",
        "  net.layer2[0].bn1 = nn.BatchNorm2d(math.ceil(phi*128), eps=1e-05, momentum=0.1, affine=True, track_running_stats=True)\n",
        "  net.layer2[0].relu = nn.ReLU(inplace=True)\n",
        "  net.layer2[0].conv2 = nn.Conv2d(math.ceil(phi*128),math.ceil(phi*128), kernel_size=(3, 3), stride=(1, 1), padding=(1, 1), bias=False)\n",
        "  net.layer2[0].bn2 = nn.BatchNorm2d(math.ceil(phi*128), eps=1e-05, momentum=0.1, affine=True, track_running_stats=True)\n",
        "  net.layer2[0].downsample[0] = nn.Conv2d(math.ceil(phi*128), math.ceil(phi*128), kernel_size=(1, 1), stride=(2, 2), bias=False)\n",
        "  net.layer2[0].downsample[1] = nn.BatchNorm2d(math.ceil(phi*128), eps=1e-05, momentum=0.1, affine=True, track_running_stats=True)\n",
        "  net.layer2[1].conv1 = nn.Conv2d(math.ceil(phi*128), math.ceil(phi*128), kernel_size=(3, 3), stride=(1, 1), padding=(1, 1), bias=False)\n",
        "  net.layer2[1].bn1 = nn.BatchNorm2d(math.ceil(phi*128), eps=1e-05, momentum=0.1, affine=True, track_running_stats=True)\n",
        "  net.layer2[1].relu = nn.ReLU(inplace=True)\n",
        "  net.layer2[1].conv2 = nn.Conv2d(math.ceil(phi*128), math.ceil(phi*128), kernel_size=(3, 3), stride=(1, 1), padding=(1, 1), bias=False)\n",
        "  net.layer2[1].bn2 = nn.BatchNorm2d(math.ceil(phi*128), eps=1e-05, momentum=0.1, affine=True, track_running_stats=True)\n",
        "\n",
        "  net.layer3[0].conv1 = nn.Conv2d(math.ceil(phi*128), math.ceil(phi*256), kernel_size=(3, 3), stride=(1, 1), padding=(1, 1), bias=False)\n",
        "  net.layer3[0].bn1 = nn.BatchNorm2d(math.ceil(phi*256), eps=1e-05, momentum=0.1, affine=True, track_running_stats=True)\n",
        "  net.layer3[0].relu = nn.ReLU(inplace=True)\n",
        "  net.layer3[0].conv2 = nn.Conv2d(math.ceil(phi*256), math.ceil(phi*256), kernel_size=(3, 3), stride=(1, 1), padding=(1, 1), bias=False)\n",
        "  net.layer3[0].bn2 = nn.BatchNorm2d(math.ceil(phi*256), eps=1e-05, momentum=0.1, affine=True, track_running_stats=True)\n",
        "  net.layer3[0].downsample[0] = nn.Conv2d(math.ceil(phi*256), math.ceil(phi*256), kernel_size=(1, 1), stride=(2, 2), bias=False)\n",
        "  net.layer3[0].downsample[1] = nn.BatchNorm2d(math.ceil(phi*256), eps=1e-05, momentum=0.1, affine=True, track_running_stats=True)\n",
        "  net.layer3[1].conv1 = nn.Conv2d(math.ceil(phi*256), math.ceil(phi*256), kernel_size=(3, 3), stride=(1, 1), padding=(1, 1), bias=False)\n",
        "  net.layer3[1].bn1 = nn.BatchNorm2d(math.ceil(phi*256), eps=1e-05, momentum=0.1, affine=True, track_running_stats=True)\n",
        "  net.layer3[1].relu = nn.ReLU(inplace=True)\n",
        "  net.layer3[1].conv2 = nn.Conv2d(math.ceil(phi*256), math.ceil(phi*256), kernel_size=(3, 3), stride=(1, 1), padding=(1, 1), bias=False)\n",
        "  net.layer3[1].bn2 = nn.BatchNorm2d(math.ceil(phi*256), eps=1e-05, momentum=0.1, affine=True, track_running_stats=True)\n",
        "\n",
        "  net.layer4[0].conv1 = nn.Conv2d(math.ceil(phi*256), math.ceil(phi*512), kernel_size=(3, 3), stride=(1, 1), padding=(1, 1), bias=False)\n",
        "  net.layer4[0].bn1 = nn.BatchNorm2d(math.ceil(phi*512), eps=1e-05, momentum=0.1, affine=True, track_running_stats=True)\n",
        "  net.layer4[0].relu = nn.ReLU(inplace=True)\n",
        "  net.layer4[0].conv2 = nn.Conv2d(math.ceil(phi*512), math.ceil(phi*512), kernel_size=(3, 3), stride=(1, 1), padding=(1, 1), bias=False)\n",
        "  net.layer4[0].bn2 = nn.BatchNorm2d(math.ceil(phi*512), eps=1e-05, momentum=0.1, affine=True, track_running_stats=True)\n",
        "  net.layer4[0].downsample[0] = nn.Conv2d(math.ceil(phi*512), math.ceil(phi*512), kernel_size=(1, 1), stride=(2, 2), bias=False)\n",
        "  net.layer4[0].downsample[1] = nn.BatchNorm2d(math.ceil(phi*512), eps=1e-05, momentum=0.1, affine=True, track_running_stats=True)\n",
        "  net.layer4[1].conv1 = nn.Conv2d(math.ceil(phi*512), math.ceil(phi*512), kernel_size=(3, 3), stride=(1, 1), padding=(1, 1), bias=False)\n",
        "  net.layer4[1].bn1 = nn.BatchNorm2d(math.ceil(phi*512), eps=1e-05, momentum=0.1, affine=True, track_running_stats=True)\n",
        "  net.layer4[1].relu = nn.ReLU(inplace=True)\n",
        "  net.layer4[1].conv2 = nn.Conv2d(math.ceil(phi*512), math.ceil(phi*512), kernel_size=(3, 3), stride=(1, 1), padding=(1, 1), bias=False)\n",
        "  net.layer4[1].bn2 = nn.BatchNorm2d(math.ceil(phi*512), eps=1e-05, momentum=0.1, affine=True, track_running_stats=True)\n",
        "  # net.avgpool = Identity()\n",
        "  net.avgpool = nn.AdaptiveAvgPool2d(output_size=(1, 1))\n",
        "  nn.fc = nn.Linear(in_features=math.ceil(phi*512), out_features=1000, bias=True)\n",
        "  temp_count = count_parameters(net)\n",
        "  y_val_resnet18_width_scaling.append(temp_count)"
      ]
    },
    {
      "cell_type": "code",
      "execution_count": null,
      "metadata": {
        "colab": {
          "base_uri": "https://localhost:8080/",
          "height": 312
        },
        "id": "U6pVNDwvqMan",
        "outputId": "d8e2c7bc-9b53-4257-e043-447a0e89018f"
      },
      "outputs": [
        {
          "data": {
            "text/plain": [
              "[<matplotlib.lines.Line2D at 0x7fd91f4ea280>]"
            ]
          },
          "execution_count": 26,
          "metadata": {},
          "output_type": "execute_result"
        },
        {
          "data": {
            "image/png": "[encoded data removed]",
            "text/plain": [
              "<Figure size 576x288 with 1 Axes>"
            ]
          },
          "metadata": {
            "needs_background": "light"
          },
          "output_type": "display_data"
        }
      ],
      "source": [
        "plt.figure(figsize=(8,4))\n",
        "plt.title(\"WIDTH SCALING RESNET__alpha = 1, beta^2 = 2, gamma^2 = 1\")\n",
        "plt.xlabel(\"phi values\")\n",
        "plt.ylabel(\"parameters\")\n",
        "plt.plot(x_val_resnet18_width_scaling, y_val_resnet18_width_scaling)"
      ]
    },
    {
      "cell_type": "code",
      "execution_count": null,
      "metadata": {
        "id": "PF-92feOqMiY"
      },
      "outputs": [],
      "source": []
    },
    {
      "cell_type": "code",
      "execution_count": null,
      "metadata": {
        "id": "LDXJjW3mqzx3"
      },
      "outputs": [],
      "source": []
    },
    {
      "cell_type": "code",
      "execution_count": null,
      "metadata": {
        "id": "jBwBg3Dxqz4R"
      },
      "outputs": [],
      "source": []
    },
    {
      "cell_type": "code",
      "execution_count": null,
      "metadata": {
        "id": "Mcra5phaqz7h"
      },
      "outputs": [],
      "source": []
    }
  ],
  "metadata": {
    "colab": {
      "provenance": []
    },
    "kernelspec": {
      "display_name": "Python 3",
      "language": "python",
      "name": "python3"
    },
    "language_info": {
      "name": "python",
      "version": "3.10.2 (tags/v3.10.2:a58ebcc, Jan 17 2022, 14:12:15) [MSC v.1929 64 bit (AMD64)]"
    },
    "vscode": {
      "interpreter": {
        "hash": "6b38c7e00c8881d147c46cfeeb1130d51b3e6d426a5b7c3e5efcbeb3e798e816"
      }
    },
    "widgets": {
      "application/vnd.jupyter.widget-state+json": {
        "042295d5c4ce45e496060c4f343e5858": {
          "model_module": "@jupyter-widgets/base",
          "model_module_version": "1.2.0",
          "model_name": "LayoutModel",
          "state": {
            "_model_module": "@jupyter-widgets/base",
            "_model_module_version": "1.2.0",
            "_model_name": "LayoutModel",
            "_view_count": null,
            "_view_module": "@jupyter-widgets/base",
            "_view_module_version": "1.2.0",
            "_view_name": "LayoutView",
            "align_content": null,
            "align_items": null,
            "align_self": null,
            "border": null,
            "bottom": null,
            "display": null,
            "flex": null,
            "flex_flow": null,
            "grid_area": null,
            "grid_auto_columns": null,
            "grid_auto_flow": null,
            "grid_auto_rows": null,
            "grid_column": null,
            "grid_gap": null,
            "grid_row": null,
            "grid_template_areas": null,
            "grid_template_columns": null,
            "grid_template_rows": null,
            "height": null,
            "justify_content": null,
            "justify_items": null,
            "left": null,
            "margin": null,
            "max_height": null,
            "max_width": null,
            "min_height": null,
            "min_width": null,
            "object_fit": null,
            "object_position": null,
            "order": null,
            "overflow": null,
            "overflow_x": null,
            "overflow_y": null,
            "padding": null,
            "right": null,
            "top": null,
            "visibility": null,
            "width": null
          }
        },
        "13611646665848e2ba0f43d4a9503822": {
          "model_module": "@jupyter-widgets/base",
          "model_module_version": "1.2.0",
          "model_name": "LayoutModel",
          "state": {
            "_model_module": "@jupyter-widgets/base",
            "_model_module_version": "1.2.0",
            "_model_name": "LayoutModel",
            "_view_count": null,
            "_view_module": "@jupyter-widgets/base",
            "_view_module_version": "1.2.0",
            "_view_name": "LayoutView",
            "align_content": null,
            "align_items": null,
            "align_self": null,
            "border": null,
            "bottom": null,
            "display": null,
            "flex": null,
            "flex_flow": null,
            "grid_area": null,
            "grid_auto_columns": null,
            "grid_auto_flow": null,
            "grid_auto_rows": null,
            "grid_column": null,
            "grid_gap": null,
            "grid_row": null,
            "grid_template_areas": null,
            "grid_template_columns": null,
            "grid_template_rows": null,
            "height": null,
            "justify_content": null,
            "justify_items": null,
            "left": null,
            "margin": null,
            "max_height": null,
            "max_width": null,
            "min_height": null,
            "min_width": null,
            "object_fit": null,
            "object_position": null,
            "order": null,
            "overflow": null,
            "overflow_x": null,
            "overflow_y": null,
            "padding": null,
            "right": null,
            "top": null,
            "visibility": null,
            "width": null
          }
        },
        "1bd07a197f324d8498abc43a1a5d0a55": {
          "model_module": "@jupyter-widgets/controls",
          "model_module_version": "1.5.0",
          "model_name": "DescriptionStyleModel",
          "state": {
            "_model_module": "@jupyter-widgets/controls",
            "_model_module_version": "1.5.0",
            "_model_name": "DescriptionStyleModel",
            "_view_count": null,
            "_view_module": "@jupyter-widgets/base",
            "_view_module_version": "1.2.0",
            "_view_name": "StyleView",
            "description_width": ""
          }
        },
        "5fdf90db1b1a4e2a865b901ca3faf256": {
          "model_module": "@jupyter-widgets/controls",
          "model_module_version": "1.5.0",
          "model_name": "HTMLModel",
          "state": {
            "_dom_classes": [],
            "_model_module": "@jupyter-widgets/controls",
            "_model_module_version": "1.5.0",
            "_model_name": "HTMLModel",
            "_view_count": null,
            "_view_module": "@jupyter-widgets/controls",
            "_view_module_version": "1.5.0",
            "_view_name": "HTMLView",
            "description": "",
            "description_tooltip": null,
            "layout": "IPY_MODEL_13611646665848e2ba0f43d4a9503822",
            "placeholder": "​",
            "style": "IPY_MODEL_1bd07a197f324d8498abc43a1a5d0a55",
            "value": "100%"
          }
        },
        "66f6bfaf99e44a15b9cf1d7130295359": {
          "model_module": "@jupyter-widgets/controls",
          "model_module_version": "1.5.0",
          "model_name": "ProgressStyleModel",
          "state": {
            "_model_module": "@jupyter-widgets/controls",
            "_model_module_version": "1.5.0",
            "_model_name": "ProgressStyleModel",
            "_view_count": null,
            "_view_module": "@jupyter-widgets/base",
            "_view_module_version": "1.2.0",
            "_view_name": "StyleView",
            "bar_color": null,
            "description_width": ""
          }
        },
        "75c8edeeee2140aaa05922aa220c03e2": {
          "model_module": "@jupyter-widgets/base",
          "model_module_version": "1.2.0",
          "model_name": "LayoutModel",
          "state": {
            "_model_module": "@jupyter-widgets/base",
            "_model_module_version": "1.2.0",
            "_model_name": "LayoutModel",
            "_view_count": null,
            "_view_module": "@jupyter-widgets/base",
            "_view_module_version": "1.2.0",
            "_view_name": "LayoutView",
            "align_content": null,
            "align_items": null,
            "align_self": null,
            "border": null,
            "bottom": null,
            "display": null,
            "flex": null,
            "flex_flow": null,
            "grid_area": null,
            "grid_auto_columns": null,
            "grid_auto_flow": null,
            "grid_auto_rows": null,
            "grid_column": null,
            "grid_gap": null,
            "grid_row": null,
            "grid_template_areas": null,
            "grid_template_columns": null,
            "grid_template_rows": null,
            "height": null,
            "justify_content": null,
            "justify_items": null,
            "left": null,
            "margin": null,
            "max_height": null,
            "max_width": null,
            "min_height": null,
            "min_width": null,
            "object_fit": null,
            "object_position": null,
            "order": null,
            "overflow": null,
            "overflow_x": null,
            "overflow_y": null,
            "padding": null,
            "right": null,
            "top": null,
            "visibility": null,
            "width": null
          }
        },
        "8a29c6564e494b9b8c5b814df5a0b301": {
          "model_module": "@jupyter-widgets/controls",
          "model_module_version": "1.5.0",
          "model_name": "HBoxModel",
          "state": {
            "_dom_classes": [],
            "_model_module": "@jupyter-widgets/controls",
            "_model_module_version": "1.5.0",
            "_model_name": "HBoxModel",
            "_view_count": null,
            "_view_module": "@jupyter-widgets/controls",
            "_view_module_version": "1.5.0",
            "_view_name": "HBoxView",
            "box_style": "",
            "children": [
              "IPY_MODEL_5fdf90db1b1a4e2a865b901ca3faf256",
              "IPY_MODEL_bc0461010123462c96691961605b6f1f",
              "IPY_MODEL_ba49c09fc514449cb6f84ec78b48c2fe"
            ],
            "layout": "IPY_MODEL_ad259dbcf5d64e15812d333b7e07acde"
          }
        },
        "8e936076d9ff491d9aa4767adbd7241a": {
          "model_module": "@jupyter-widgets/controls",
          "model_module_version": "1.5.0",
          "model_name": "DescriptionStyleModel",
          "state": {
            "_model_module": "@jupyter-widgets/controls",
            "_model_module_version": "1.5.0",
            "_model_name": "DescriptionStyleModel",
            "_view_count": null,
            "_view_module": "@jupyter-widgets/base",
            "_view_module_version": "1.2.0",
            "_view_name": "StyleView",
            "description_width": ""
          }
        },
        "ad259dbcf5d64e15812d333b7e07acde": {
          "model_module": "@jupyter-widgets/base",
          "model_module_version": "1.2.0",
          "model_name": "LayoutModel",
          "state": {
            "_model_module": "@jupyter-widgets/base",
            "_model_module_version": "1.2.0",
            "_model_name": "LayoutModel",
            "_view_count": null,
            "_view_module": "@jupyter-widgets/base",
            "_view_module_version": "1.2.0",
            "_view_name": "LayoutView",
            "align_content": null,
            "align_items": null,
            "align_self": null,
            "border": null,
            "bottom": null,
            "display": null,
            "flex": null,
            "flex_flow": null,
            "grid_area": null,
            "grid_auto_columns": null,
            "grid_auto_flow": null,
            "grid_auto_rows": null,
            "grid_column": null,
            "grid_gap": null,
            "grid_row": null,
            "grid_template_areas": null,
            "grid_template_columns": null,
            "grid_template_rows": null,
            "height": null,
            "justify_content": null,
            "justify_items": null,
            "left": null,
            "margin": null,
            "max_height": null,
            "max_width": null,
            "min_height": null,
            "min_width": null,
            "object_fit": null,
            "object_position": null,
            "order": null,
            "overflow": null,
            "overflow_x": null,
            "overflow_y": null,
            "padding": null,
            "right": null,
            "top": null,
            "visibility": null,
            "width": null
          }
        },
        "ba49c09fc514449cb6f84ec78b48c2fe": {
          "model_module": "@jupyter-widgets/controls",
          "model_module_version": "1.5.0",
          "model_name": "HTMLModel",
          "state": {
            "_dom_classes": [],
            "_model_module": "@jupyter-widgets/controls",
            "_model_module_version": "1.5.0",
            "_model_name": "HTMLModel",
            "_view_count": null,
            "_view_module": "@jupyter-widgets/controls",
            "_view_module_version": "1.5.0",
            "_view_name": "HTMLView",
            "description": "",
            "description_tooltip": null,
            "layout": "IPY_MODEL_75c8edeeee2140aaa05922aa220c03e2",
            "placeholder": "​",
            "style": "IPY_MODEL_8e936076d9ff491d9aa4767adbd7241a",
            "value": " 44.7M/44.7M [00:00&lt;00:00, 80.8MB/s]"
          }
        },
        "bc0461010123462c96691961605b6f1f": {
          "model_module": "@jupyter-widgets/controls",
          "model_module_version": "1.5.0",
          "model_name": "FloatProgressModel",
          "state": {
            "_dom_classes": [],
            "_model_module": "@jupyter-widgets/controls",
            "_model_module_version": "1.5.0",
            "_model_name": "FloatProgressModel",
            "_view_count": null,
            "_view_module": "@jupyter-widgets/controls",
            "_view_module_version": "1.5.0",
            "_view_name": "ProgressView",
            "bar_style": "success",
            "description": "",
            "description_tooltip": null,
            "layout": "IPY_MODEL_042295d5c4ce45e496060c4f343e5858",
            "max": 46830571,
            "min": 0,
            "orientation": "horizontal",
            "style": "IPY_MODEL_66f6bfaf99e44a15b9cf1d7130295359",
            "value": 46830571
          }
        }
      }
    }
  },
  "nbformat": 4,
  "nbformat_minor": 0
}
